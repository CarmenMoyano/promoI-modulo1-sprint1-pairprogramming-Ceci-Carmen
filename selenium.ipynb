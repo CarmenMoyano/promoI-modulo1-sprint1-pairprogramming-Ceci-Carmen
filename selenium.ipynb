{
 "cells": [
  {
   "cell_type": "markdown",
   "metadata": {},
   "source": [
    "Pair programming Selenium\n",
    "\n",
    "Ejercicios Selenium Extracción de Datos de Libros de Ficción en La Casa del Libro\n",
    "\n",
    "Imagina que eres un analista de datos en una importante cadena de librerías y tu misión es recopilar información actualizada sobre los libros de ficción disponibles en el mercado. Esta información es vital para tomar decisiones estratégicas, como determinar qué libros de ficción deben ser promocionados, ajustar los precios competitivamente y gestionar adecuadamente el inventario. La Casa del Libro es uno de los principales competidores, por lo que es esencial mantenerse al tanto de su catálogo.\n",
    "\n",
    "Objetivo del Ejercicio: El objetivo de este ejercicio es que las alumnas utilicen Selenium en Python para automatizar la extracción de datos de los libros de ficción en el sitio web de La Casa del Libro. Deberán obtener información clave de los libros, incluyendo título, autor, precio, editorial, idioma y número de páginas.\n",
    "\n",
    "Descripción:\n",
    "\n",
    "    a.Acceso a la Página de La Casa del Libro: Utilizando Selenium, deberás automatizar el proceso de navegación hacia la página de libros de ficción en el sitio web de La Casa del Libro.\n",
    "\n",
    "    b.Extracción de Datos de las 5 Primeras Páginas: Una vez en la página de libros de ficción, debes programar su script para que recorra los 5 primeros libros de libros, extrayendo los siguientes datos de cada libro:\n",
    "\n",
    "        b.1.Título del libro.\n",
    "\n",
    "        b.2.Autor(es) del libro.\n",
    "\n",
    "        b.3.Precio del libro.\n",
    "\n",
    "        b.4.Editorial del libro.\n",
    "\n",
    "        b.5.Idioma del libro.\n",
    "\n",
    "        b.6.Número de páginas del libro.\n",
    "\n",
    "    c.Almacenamiento de Datos: Los datos extraídos deben almacenarse en un DataFrame."
   ]
  },
  {
   "cell_type": "code",
   "execution_count": 2,
   "metadata": {},
   "outputs": [],
   "source": [
    "# Importar librerías para tratamiento de datos\n",
    "# -----------------------------------------------------------------------\n",
    "import pandas as pd  # Pandas es una poderosa librería para manipulación y análisis de datos en Python.\n",
    "\n",
    "# Importar librerías para web scraping y manipulación de datos\n",
    "# -----------------------------------------------------------------------\n",
    "from bs4 import BeautifulSoup\n",
    "import requests\n",
    "\n",
    "# Importar librerías para automatización de navegadores web con Selenium\n",
    "# -----------------------------------------------------------------------\n",
    "from selenium import webdriver  # Selenium es una herramienta para automatizar la interacción con navegadores web.\n",
    "from webdriver_manager.chrome import ChromeDriverManager  # ChromeDriverManager gestiona la instalación del controlador de Chrome.\n",
    "from selenium.webdriver.common.keys import Keys  # Keys es útil para simular eventos de teclado en Selenium.\n",
    "from selenium.webdriver.support.ui import Select  # Select se utiliza para interactuar con elementos <select> en páginas web.\n",
    "\n",
    "# Importar librerías para pausar la ejecución\n",
    "# -----------------------------------------------------------------------\n",
    "from time import sleep  # Sleep se utiliza para pausar la ejecución del programa por un número de segundos.\n",
    "\n",
    "# Configuraciones\n",
    "# -----------------------------------------------------------------------\n",
    "pd.set_option('display.max_columns', None)  # Establece una opción de Pandas para mostrar todas las columnas de un DataFrame."
   ]
  },
  {
   "cell_type": "markdown",
   "metadata": {},
   "source": [
    "a. Acceso a la Página de La Casa del Libro: Utilizando Selenium, deberás automatizar el proceso de navegación hacia la página de libros de ficción en el sitio web de La Casa del Libro."
   ]
  },
  {
   "cell_type": "code",
   "execution_count": 3,
   "metadata": {},
   "outputs": [],
   "source": [
    "driver = webdriver.Chrome()\n",
    "driver.get(\"https://www.casadellibro.com/?gad_source=1&gclid=CjwKCAjw-O6zBhASEiwAOHeGxbiRVpHOPKfIErNZqH4fZva2i2CkNvovYmqbHhVrju-H3NVFbh5YthoCf2UQAvD_BwE\")\n",
    "driver.maximize_window()"
   ]
  },
  {
   "cell_type": "code",
   "execution_count": 4,
   "metadata": {},
   "outputs": [],
   "source": [
    "# Rechazar cookies\n",
    "sleep(3)\n",
    "driver.find_element(\"css selector\", \"#onetrust-reject-all-handler\").click()"
   ]
  },
  {
   "cell_type": "code",
   "execution_count": 5,
   "metadata": {},
   "outputs": [],
   "source": [
    "# Entramos en ficción\n",
    "sleep(1)\n",
    "driver.find_element(\"css selector\", \"#app > div.v-application--wrap > div.when-mobile > div.cabecera.desktop > div.bottom-row > div > div > div:nth-child(2) > a\").click()\n",
    "\n"
   ]
  },
  {
   "cell_type": "markdown",
   "metadata": {},
   "source": [
    "b. Extracción de Datos de las 5 Primeras Páginas: Una vez en la página de libros de ficción, debes programar su script para que recorra los 5 primeros libros de libros, extrayendo los siguientes datos de cada libro:\n",
    "\n",
    "        b.1.Título del libro.\n",
    "\n",
    "        b.2.Autor(es) del libro.\n",
    "\n",
    "        b.3.Precio del libro.\n",
    "\n",
    "        b.4.Editorial del libro.\n",
    "\n",
    "        b.5.Idioma del libro.\n",
    "\n",
    "        b.6.Número de páginas del libro."
   ]
  },
  {
   "cell_type": "code",
   "execution_count": 6,
   "metadata": {},
   "outputs": [],
   "source": [
    "diccionario_libros = {\"titulo\":[],\n",
    "                      \"autor\":[],\n",
    "                      \"precio\":[],\n",
    "                      \"editorial\":[],\n",
    "                      \"idioma\":[],\n",
    "                      \"número de páginas\":[]}"
   ]
  },
  {
   "cell_type": "code",
   "execution_count": 7,
   "metadata": {},
   "outputs": [
    {
     "name": "stdout",
     "output_type": "stream",
     "text": [
      "Entrar en el libro 1\n",
      "Titulo del libro 1\n",
      "Autor del libro 1\n",
      "Precio del libro 1\n"
     ]
    },
    {
     "ename": "KeyError",
     "evalue": "'editoria'",
     "output_type": "error",
     "traceback": [
      "\u001b[1;31m---------------------------------------------------------------------------\u001b[0m",
      "\u001b[1;31mKeyError\u001b[0m                                  Traceback (most recent call last)",
      "Cell \u001b[1;32mIn[7], line 24\u001b[0m\n\u001b[0;32m     22\u001b[0m sleep(\u001b[38;5;241m5\u001b[39m)\n\u001b[0;32m     23\u001b[0m editorial_libro \u001b[38;5;241m=\u001b[39m driver\u001b[38;5;241m.\u001b[39mfind_element(\u001b[38;5;124m\"\u001b[39m\u001b[38;5;124mcss selector\u001b[39m\u001b[38;5;124m\"\u001b[39m, \u001b[38;5;124m\"\u001b[39m\u001b[38;5;124m#app > div.v-application--wrap > main > div > div > div > div:nth-child(3) > div > div > div.col-md-5.order-lg-2.col-12.order-1 > div > div.d-none.d-md-inline > div:nth-child(1) > span:nth-child(1)\u001b[39m\u001b[38;5;124m\"\u001b[39m)\u001b[38;5;241m.\u001b[39mtext\n\u001b[1;32m---> 24\u001b[0m diccionario_libros[\u001b[38;5;124m\"\u001b[39m\u001b[38;5;124meditoria\u001b[39m\u001b[38;5;124m\"\u001b[39m]\u001b[38;5;241m.\u001b[39mappend(editorial_libro)\n\u001b[0;32m     25\u001b[0m \u001b[38;5;28mprint\u001b[39m(\u001b[38;5;124mf\u001b[39m\u001b[38;5;124m\"\u001b[39m\u001b[38;5;124meditorial del libro \u001b[39m\u001b[38;5;132;01m{\u001b[39;00mi\u001b[38;5;132;01m}\u001b[39;00m\u001b[38;5;124m\"\u001b[39m)\n\u001b[0;32m     26\u001b[0m \u001b[38;5;66;03m# Cogemos el idioma\u001b[39;00m\n",
      "\u001b[1;31mKeyError\u001b[0m: 'editoria'"
     ]
    }
   ],
   "source": [
    "for i in range(1,6):\n",
    "# Entramos en el primer libro\n",
    "    sleep(5)\n",
    "    driver.find_element(\"css selector\", f\"#app > div.v-application--wrap > main > div > div > div > div:nth-child(4) > div > div > div > div:nth-child(2) > div > div.swiper > div:nth-child({i}) > a\").click()\n",
    "    print(f\"Entrar en el libro {i}\")\n",
    "    # Cogemos el titulo\n",
    "    sleep(2)\n",
    "    nombre_libro = driver.find_element(\"css selector\", \"#app > div.v-application--wrap > main > div > div > div > div:nth-child(3) > div > div > div.col-md-5.order-lg-2.col-12.order-1 > div > h1\").text\n",
    "    diccionario_libros[\"titulo\"].append(nombre_libro)\n",
    "    print(f\"Titulo del libro {i}\")\n",
    "    # Cogemos el autor\n",
    "    sleep(2)\n",
    "    autor_libro = driver.find_element(\"css selector\", \"#app > div.v-application--wrap > main > div > div > div > div:nth-child(3) > div > div > div.col-md-5.order-lg-2.col-12.order-1 > div > div.text-h5.d-flex.flex-wrap.author.mb-2.justify-center.justify-sm-start > div > a > span:nth-child(1)\").text\n",
    "    diccionario_libros[\"autor\"].append(autor_libro)\n",
    "    print(f\"Autor del libro {i}\")\n",
    "    # Cogemos el precio\n",
    "    sleep(5)\n",
    "    precio_libro = driver.find_element(\"css selector\", \"#app > div.v-application--wrap > main > div > div > div > div:nth-child(3) > div > div > div.border-left.col-md-4.col-12.order-3 > div > div:nth-child(3) > div.col.col-8 > strong\").text\n",
    "    diccionario_libros[\"precio\"].append(precio_libro)\n",
    "    print(f\"Precio del libro {i}\")\n",
    "    # Cogemos el editorial\n",
    "    sleep(5)\n",
    "    editorial_libro = driver.find_element(\"css selector\", \"#app > div.v-application--wrap > main > div > div > div > div:nth-child(3) > div > div > div.col-md-5.order-lg-2.col-12.order-1 > div > div.d-none.d-md-inline > div:nth-child(1) > span:nth-child(1)\").text\n",
    "    diccionario_libros[\"editoria\"].append(editorial_libro)\n",
    "    print(f\"editorial del libro {i}\")\n",
    "    # Cogemos el idioma\n",
    "    sleep(5)\n",
    "    idioma_libro = driver.find_element(\"css selector\", \" #app > div.v-application--wrap > main > div > div > div > div:nth-child(7) > div > div > div.caracteristicas.mt-4.pt-4 > div:nth-child(4) > div > span\").text\n",
    "    diccionario_libros[\"idioma\"].append(idioma_libro)\n",
    "    print(f\"idioma del libro {i}\")\n",
    "    # Cogemos el número de páginas\n",
    "    sleep(5)\n",
    "    pagina_libro = driver.find_element(\"css selector\", \" #app > div.v-application--wrap > main > div > div > div > div:nth-child(7) > div > div > div.caracteristicas.mt-4.pt-4 > div:nth-child(5) > div > span\").text\n",
    "    diccionario_libros[\"número de páginas\"].append(pagina_libro)\n",
    "    print(f\"Número de páginas del libro {i}\")\n",
    "    # Volvemos a la página principal\n",
    "    driver.back()\n",
    "    print(f\"Vuelvo a la página después del libro {i}\")\n",
    "    break\n",
    "\n"
   ]
  },
  {
   "cell_type": "code",
   "execution_count": 36,
   "metadata": {},
   "outputs": [
    {
     "ename": "InvalidSelectorException",
     "evalue": "Message: invalid selector\nfrom javascript error: {\"status\":32,\"value\":\"An invalid or illegal selector was specified\"}\n  (Session info: chrome=126.0.6478.116); For documentation on this error, please visit: https://www.selenium.dev/documentation/webdriver/troubleshooting/errors#invalid-selector-exception\nStacktrace:\n\tGetHandleVerifier [0x00007FF70EDAEEA2+31554]\n\t(No symbol) [0x00007FF70ED27ED9]\n\t(No symbol) [0x00007FF70EBE872A]\n\t(No symbol) [0x00007FF70EBEE55E]\n\t(No symbol) [0x00007FF70EBF0EB1]\n\t(No symbol) [0x00007FF70EBF0F50]\n\t(No symbol) [0x00007FF70EC37F6C]\n\t(No symbol) [0x00007FF70EC3853C]\n\t(No symbol) [0x00007FF70EC7F6A7]\n\t(No symbol) [0x00007FF70EC5D06F]\n\t(No symbol) [0x00007FF70EC7C977]\n\t(No symbol) [0x00007FF70EC5CDD3]\n\t(No symbol) [0x00007FF70EC2A33B]\n\t(No symbol) [0x00007FF70EC2AED1]\n\tGetHandleVerifier [0x00007FF70F0B8B1D+3217341]\n\tGetHandleVerifier [0x00007FF70F105AE3+3532675]\n\tGetHandleVerifier [0x00007FF70F0FB0E0+3489152]\n\tGetHandleVerifier [0x00007FF70EE5E776+750614]\n\t(No symbol) [0x00007FF70ED3375F]\n\t(No symbol) [0x00007FF70ED2EB14]\n\t(No symbol) [0x00007FF70ED2ECA2]\n\t(No symbol) [0x00007FF70ED1E16F]\n\tBaseThreadInitThunk [0x00007FF841787344+20]\n\tRtlUserThreadStart [0x00007FF84339CC91+33]\n",
     "output_type": "error",
     "traceback": [
      "\u001b[1;31m---------------------------------------------------------------------------\u001b[0m",
      "\u001b[1;31mInvalidSelectorException\u001b[0m                  Traceback (most recent call last)",
      "Cell \u001b[1;32mIn[36], line 2\u001b[0m\n\u001b[0;32m      1\u001b[0m \u001b[38;5;28;01mfor\u001b[39;00m i \u001b[38;5;129;01min\u001b[39;00m \u001b[38;5;28mrange\u001b[39m(\u001b[38;5;241m1\u001b[39m,\u001b[38;5;241m3\u001b[39m):\n\u001b[1;32m----> 2\u001b[0m     driver\u001b[38;5;241m.\u001b[39mfind_element(\u001b[38;5;124m\"\u001b[39m\u001b[38;5;124mcss selector\u001b[39m\u001b[38;5;124m\"\u001b[39m, \u001b[38;5;124m\"\u001b[39m\u001b[38;5;124m#app > div.v-application--wrap > main > div > div > div > div:nth-child(4) > div > div > div > div:nth-child(2) > div > div.swiper > div:nth-child(\u001b[39m\u001b[38;5;132;01m{i}\u001b[39;00m\u001b[38;5;124m) > a\u001b[39m\u001b[38;5;124m\"\u001b[39m)\u001b[38;5;241m.\u001b[39mclick()\n\u001b[0;32m      3\u001b[0m     driver\u001b[38;5;241m.\u001b[39mback()\n",
      "File \u001b[1;32m~\\AppData\\Roaming\\Python\\Python311\\site-packages\\selenium\\webdriver\\remote\\webdriver.py:748\u001b[0m, in \u001b[0;36mWebDriver.find_element\u001b[1;34m(self, by, value)\u001b[0m\n\u001b[0;32m    745\u001b[0m     by \u001b[38;5;241m=\u001b[39m By\u001b[38;5;241m.\u001b[39mCSS_SELECTOR\n\u001b[0;32m    746\u001b[0m     value \u001b[38;5;241m=\u001b[39m \u001b[38;5;124mf\u001b[39m\u001b[38;5;124m'\u001b[39m\u001b[38;5;124m[name=\u001b[39m\u001b[38;5;124m\"\u001b[39m\u001b[38;5;132;01m{\u001b[39;00mvalue\u001b[38;5;132;01m}\u001b[39;00m\u001b[38;5;124m\"\u001b[39m\u001b[38;5;124m]\u001b[39m\u001b[38;5;124m'\u001b[39m\n\u001b[1;32m--> 748\u001b[0m \u001b[38;5;28;01mreturn\u001b[39;00m \u001b[38;5;28mself\u001b[39m\u001b[38;5;241m.\u001b[39mexecute(Command\u001b[38;5;241m.\u001b[39mFIND_ELEMENT, {\u001b[38;5;124m\"\u001b[39m\u001b[38;5;124musing\u001b[39m\u001b[38;5;124m\"\u001b[39m: by, \u001b[38;5;124m\"\u001b[39m\u001b[38;5;124mvalue\u001b[39m\u001b[38;5;124m\"\u001b[39m: value})[\u001b[38;5;124m\"\u001b[39m\u001b[38;5;124mvalue\u001b[39m\u001b[38;5;124m\"\u001b[39m]\n",
      "File \u001b[1;32m~\\AppData\\Roaming\\Python\\Python311\\site-packages\\selenium\\webdriver\\remote\\webdriver.py:354\u001b[0m, in \u001b[0;36mWebDriver.execute\u001b[1;34m(self, driver_command, params)\u001b[0m\n\u001b[0;32m    352\u001b[0m response \u001b[38;5;241m=\u001b[39m \u001b[38;5;28mself\u001b[39m\u001b[38;5;241m.\u001b[39mcommand_executor\u001b[38;5;241m.\u001b[39mexecute(driver_command, params)\n\u001b[0;32m    353\u001b[0m \u001b[38;5;28;01mif\u001b[39;00m response:\n\u001b[1;32m--> 354\u001b[0m     \u001b[38;5;28mself\u001b[39m\u001b[38;5;241m.\u001b[39merror_handler\u001b[38;5;241m.\u001b[39mcheck_response(response)\n\u001b[0;32m    355\u001b[0m     response[\u001b[38;5;124m\"\u001b[39m\u001b[38;5;124mvalue\u001b[39m\u001b[38;5;124m\"\u001b[39m] \u001b[38;5;241m=\u001b[39m \u001b[38;5;28mself\u001b[39m\u001b[38;5;241m.\u001b[39m_unwrap_value(response\u001b[38;5;241m.\u001b[39mget(\u001b[38;5;124m\"\u001b[39m\u001b[38;5;124mvalue\u001b[39m\u001b[38;5;124m\"\u001b[39m, \u001b[38;5;28;01mNone\u001b[39;00m))\n\u001b[0;32m    356\u001b[0m     \u001b[38;5;28;01mreturn\u001b[39;00m response\n",
      "File \u001b[1;32m~\\AppData\\Roaming\\Python\\Python311\\site-packages\\selenium\\webdriver\\remote\\errorhandler.py:229\u001b[0m, in \u001b[0;36mErrorHandler.check_response\u001b[1;34m(self, response)\u001b[0m\n\u001b[0;32m    227\u001b[0m         alert_text \u001b[38;5;241m=\u001b[39m value[\u001b[38;5;124m\"\u001b[39m\u001b[38;5;124malert\u001b[39m\u001b[38;5;124m\"\u001b[39m]\u001b[38;5;241m.\u001b[39mget(\u001b[38;5;124m\"\u001b[39m\u001b[38;5;124mtext\u001b[39m\u001b[38;5;124m\"\u001b[39m)\n\u001b[0;32m    228\u001b[0m     \u001b[38;5;28;01mraise\u001b[39;00m exception_class(message, screen, stacktrace, alert_text)  \u001b[38;5;66;03m# type: ignore[call-arg]  # mypy is not smart enough here\u001b[39;00m\n\u001b[1;32m--> 229\u001b[0m \u001b[38;5;28;01mraise\u001b[39;00m exception_class(message, screen, stacktrace)\n",
      "\u001b[1;31mInvalidSelectorException\u001b[0m: Message: invalid selector\nfrom javascript error: {\"status\":32,\"value\":\"An invalid or illegal selector was specified\"}\n  (Session info: chrome=126.0.6478.116); For documentation on this error, please visit: https://www.selenium.dev/documentation/webdriver/troubleshooting/errors#invalid-selector-exception\nStacktrace:\n\tGetHandleVerifier [0x00007FF70EDAEEA2+31554]\n\t(No symbol) [0x00007FF70ED27ED9]\n\t(No symbol) [0x00007FF70EBE872A]\n\t(No symbol) [0x00007FF70EBEE55E]\n\t(No symbol) [0x00007FF70EBF0EB1]\n\t(No symbol) [0x00007FF70EBF0F50]\n\t(No symbol) [0x00007FF70EC37F6C]\n\t(No symbol) [0x00007FF70EC3853C]\n\t(No symbol) [0x00007FF70EC7F6A7]\n\t(No symbol) [0x00007FF70EC5D06F]\n\t(No symbol) [0x00007FF70EC7C977]\n\t(No symbol) [0x00007FF70EC5CDD3]\n\t(No symbol) [0x00007FF70EC2A33B]\n\t(No symbol) [0x00007FF70EC2AED1]\n\tGetHandleVerifier [0x00007FF70F0B8B1D+3217341]\n\tGetHandleVerifier [0x00007FF70F105AE3+3532675]\n\tGetHandleVerifier [0x00007FF70F0FB0E0+3489152]\n\tGetHandleVerifier [0x00007FF70EE5E776+750614]\n\t(No symbol) [0x00007FF70ED3375F]\n\t(No symbol) [0x00007FF70ED2EB14]\n\t(No symbol) [0x00007FF70ED2ECA2]\n\t(No symbol) [0x00007FF70ED1E16F]\n\tBaseThreadInitThunk [0x00007FF841787344+20]\n\tRtlUserThreadStart [0x00007FF84339CC91+33]\n"
     ]
    }
   ],
   "source": [
    "for i in range(1,3):\n",
    "    driver.find_element(\"css selector\", \"#app > div.v-application--wrap > main > div > div > div > div:nth-child(4) > div > div > div > div:nth-child(2) > div > div.swiper > div:nth-child({}) > a\").click()"
   ]
  },
  {
   "cell_type": "code",
   "execution_count": 17,
   "metadata": {},
   "outputs": [
    {
     "name": "stdout",
     "output_type": "stream",
     "text": [
      "Número de páginas del libro 1\n"
     ]
    },
    {
     "data": {
      "text/plain": [
       "'496'"
      ]
     },
     "execution_count": 17,
     "metadata": {},
     "output_type": "execute_result"
    }
   ],
   "source": [
    "# Cogemos el número de páginas\n",
    "sleep(1)\n",
    "pagina_libro = driver.find_element(\"css selector\", \" #app > div.v-application--wrap > main > div > div > div > div:nth-child(7) > div > div > div.caracteristicas.mt-4.pt-4 > div:nth-child(5) > div > span\").text\n",
    "print(f\"Número de páginas del libro 1\")\n",
    "pagina_libro"
   ]
  },
  {
   "cell_type": "code",
   "execution_count": null,
   "metadata": {},
   "outputs": [],
   "source": [
    "#app > div.v-application--wrap > main > div > div > div > div:nth-child(4) > div > div > div > div:nth-child(2) > div > div.swiper > div:nth-child(1) > div:nth-child(3)\n",
    "#app > div.v-application--wrap > main > div > div > div > div:nth-child(4) > div > div > div > div:nth-child(2) > div > div.swiper > div:nth-child(2) > div:nth-child(3)\n",
    "\n",
    "#app > div.v-application--wrap > main > div > div > div > div:nth-child(4) > div > div > div > div:nth-child(2) > div > div.swiper > div:nth-child(1) > a\n",
    "#app > div.v-application--wrap > main > div > div > div > div:nth-child(4) > div > div > div > div:nth-child(2) > div > div.swiper > div:nth-child(2) > a\n",
    "\n",
    "#app > div.v-application--wrap > main > div > div > div > div:nth-child(3) > div > div > div.col-md-5.order-lg-2.col-12.order-1 > div > h1\n",
    "#app > div.v-application--wrap > main > div > div > div > div:nth-child(3) > div > div > div.col-md-5.order-lg-2.col-12.order-1 > div > h1\n",
    "\n",
    "#app > div.v-application--wrap > main > div > div > div > div:nth-child(3) > div > div > div.col-md-5.order-lg-2.col-12.order-1 > div > div.text-h5.d-flex.flex-wrap.author.mb-2.justify-center.justify-sm-start > div > a > span:nth-child(1)\n",
    "#app > div.v-application--wrap > main > div > div > div > div:nth-child(3) > div > div > div.col-md-5.order-lg-2.col-12.order-1 > div > div.text-h5.d-flex.flex-wrap.author.mb-2.justify-center.justify-sm-start > div > a > span:nth-child(1)\n",
    "\n",
    "#app > div.v-application--wrap > main > div > div > div > div:nth-child(3) > div > div > div.col-md-5.order-lg-2.col-12.order-1 > div > div.d-none.d-md-inline > div:nth-child(1) > span:nth-child(1)\n",
    "#app > div.v-application--wrap > main > div > div > div > div:nth-child(3) > div > div > div.col-md-5.order-lg-2.col-12.order-1 > div > div.d-none.d-md-inline > div:nth-child(1) > span:nth-child(1)\n",
    "\n",
    "#app > div.v-application--wrap > main > div > div > div > div:nth-child(7) > div > div > div.caracteristicas.mt-4.pt-4 > div:nth-child(4) > div > span\n",
    "#app > div.v-application--wrap > main > div > div > div > div:nth-child(7) > div > div > div.caracteristicas.mt-4.pt-4 > div:nth-child(4) > div > span\n",
    "\n",
    "#app > div.v-application--wrap > main > div > div > div > div:nth-child(7) > div > div > div.caracteristicas.mt-4.pt-4 > div:nth-child(5) > div > span\n",
    "#app > div.v-application--wrap > main > div > div > div > div:nth-child(7) > div > div > div.caracteristicas.mt-4.pt-4 > div:nth-child(5) > div > span"
   ]
  }
 ],
 "metadata": {
  "kernelspec": {
   "display_name": "base",
   "language": "python",
   "name": "python3"
  },
  "language_info": {
   "codemirror_mode": {
    "name": "ipython",
    "version": 3
   },
   "file_extension": ".py",
   "mimetype": "text/x-python",
   "name": "python",
   "nbconvert_exporter": "python",
   "pygments_lexer": "ipython3",
   "version": "3.11.7"
  }
 },
 "nbformat": 4,
 "nbformat_minor": 2
}
